{
  "nbformat": 4,
  "nbformat_minor": 0,
  "metadata": {
    "colab": {
      "provenance": [],
      "toc_visible": true,
      "authorship_tag": "ABX9TyNuB+DbnW8hVhBigqMIPX2W",
      "include_colab_link": true
    },
    "kernelspec": {
      "name": "python3",
      "display_name": "Python 3"
    },
    "language_info": {
      "name": "python"
    }
  },
  "cells": [
    {
      "cell_type": "markdown",
      "metadata": {
        "id": "view-in-github",
        "colab_type": "text"
      },
      "source": [
        "<a href=\"https://colab.research.google.com/github/krutikikani/data-analysis/blob/main/internship.ipynb\" target=\"_parent\"><img src=\"https://colab.research.google.com/assets/colab-badge.svg\" alt=\"Open In Colab\"/></a>"
      ]
    },
    {
      "cell_type": "markdown",
      "source": [
        "# **level 1**"
      ],
      "metadata": {
        "id": "ps_eaWB09zZJ"
      }
    },
    {
      "cell_type": "markdown",
      "source": [
        "# **Task1: Top Cuisines**\n",
        "\n",
        "\n"
      ],
      "metadata": {
        "id": "5DHGNLZg97tE"
      }
    },
    {
      "cell_type": "markdown",
      "source": [
        "# **Determine the top three most common cuisines in the dataset.**"
      ],
      "metadata": {
        "id": "IGqKEsaJTr2H"
      }
    },
    {
      "cell_type": "code",
      "source": [
        "import pandas as pd\n",
        "df = pd.read_csv(\"/content/Dataset .csv\")\n",
        "display(df.head())\n"
      ],
      "metadata": {
        "colab": {
          "base_uri": "https://localhost:8080/",
          "height": 810
        },
        "id": "eKdkb_oW97ZV",
        "outputId": "e6715722-634f-46d7-e2f0-4584d1bec792"
      },
      "execution_count": null,
      "outputs": [
        {
          "output_type": "display_data",
          "data": {
            "text/plain": [
              "   Restaurant ID         Restaurant Name  Country Code              City  \\\n",
              "0        6317637        Le Petit Souffle           162       Makati City   \n",
              "1        6304287        Izakaya Kikufuji           162       Makati City   \n",
              "2        6300002  Heat - Edsa Shangri-La           162  Mandaluyong City   \n",
              "3        6318506                    Ooma           162  Mandaluyong City   \n",
              "4        6314302             Sambo Kojin           162  Mandaluyong City   \n",
              "\n",
              "                                             Address  \\\n",
              "0  Third Floor, Century City Mall, Kalayaan Avenu...   \n",
              "1  Little Tokyo, 2277 Chino Roces Avenue, Legaspi...   \n",
              "2  Edsa Shangri-La, 1 Garden Way, Ortigas, Mandal...   \n",
              "3  Third Floor, Mega Fashion Hall, SM Megamall, O...   \n",
              "4  Third Floor, Mega Atrium, SM Megamall, Ortigas...   \n",
              "\n",
              "                                     Locality  \\\n",
              "0   Century City Mall, Poblacion, Makati City   \n",
              "1  Little Tokyo, Legaspi Village, Makati City   \n",
              "2  Edsa Shangri-La, Ortigas, Mandaluyong City   \n",
              "3      SM Megamall, Ortigas, Mandaluyong City   \n",
              "4      SM Megamall, Ortigas, Mandaluyong City   \n",
              "\n",
              "                                    Locality Verbose   Longitude   Latitude  \\\n",
              "0  Century City Mall, Poblacion, Makati City, Mak...  121.027535  14.565443   \n",
              "1  Little Tokyo, Legaspi Village, Makati City, Ma...  121.014101  14.553708   \n",
              "2  Edsa Shangri-La, Ortigas, Mandaluyong City, Ma...  121.056831  14.581404   \n",
              "3  SM Megamall, Ortigas, Mandaluyong City, Mandal...  121.056475  14.585318   \n",
              "4  SM Megamall, Ortigas, Mandaluyong City, Mandal...  121.057508  14.584450   \n",
              "\n",
              "                           Cuisines  ...          Currency Has Table booking  \\\n",
              "0        French, Japanese, Desserts  ...  Botswana Pula(P)               Yes   \n",
              "1                          Japanese  ...  Botswana Pula(P)               Yes   \n",
              "2  Seafood, Asian, Filipino, Indian  ...  Botswana Pula(P)               Yes   \n",
              "3                   Japanese, Sushi  ...  Botswana Pula(P)                No   \n",
              "4                  Japanese, Korean  ...  Botswana Pula(P)               Yes   \n",
              "\n",
              "  Has Online delivery Is delivering now Switch to order menu Price range  \\\n",
              "0                  No                No                   No           3   \n",
              "1                  No                No                   No           3   \n",
              "2                  No                No                   No           4   \n",
              "3                  No                No                   No           4   \n",
              "4                  No                No                   No           4   \n",
              "\n",
              "   Aggregate rating  Rating color Rating text Votes  \n",
              "0               4.8    Dark Green   Excellent   314  \n",
              "1               4.5    Dark Green   Excellent   591  \n",
              "2               4.4         Green   Very Good   270  \n",
              "3               4.9    Dark Green   Excellent   365  \n",
              "4               4.8    Dark Green   Excellent   229  \n",
              "\n",
              "[5 rows x 21 columns]"
            ],
            "text/html": [
              "\n",
              "  <div id=\"df-2a435d4e-9ef6-4869-91c0-a3a43962d040\" class=\"colab-df-container\">\n",
              "    <div>\n",
              "<style scoped>\n",
              "    .dataframe tbody tr th:only-of-type {\n",
              "        vertical-align: middle;\n",
              "    }\n",
              "\n",
              "    .dataframe tbody tr th {\n",
              "        vertical-align: top;\n",
              "    }\n",
              "\n",
              "    .dataframe thead th {\n",
              "        text-align: right;\n",
              "    }\n",
              "</style>\n",
              "<table border=\"1\" class=\"dataframe\">\n",
              "  <thead>\n",
              "    <tr style=\"text-align: right;\">\n",
              "      <th></th>\n",
              "      <th>Restaurant ID</th>\n",
              "      <th>Restaurant Name</th>\n",
              "      <th>Country Code</th>\n",
              "      <th>City</th>\n",
              "      <th>Address</th>\n",
              "      <th>Locality</th>\n",
              "      <th>Locality Verbose</th>\n",
              "      <th>Longitude</th>\n",
              "      <th>Latitude</th>\n",
              "      <th>Cuisines</th>\n",
              "      <th>...</th>\n",
              "      <th>Currency</th>\n",
              "      <th>Has Table booking</th>\n",
              "      <th>Has Online delivery</th>\n",
              "      <th>Is delivering now</th>\n",
              "      <th>Switch to order menu</th>\n",
              "      <th>Price range</th>\n",
              "      <th>Aggregate rating</th>\n",
              "      <th>Rating color</th>\n",
              "      <th>Rating text</th>\n",
              "      <th>Votes</th>\n",
              "    </tr>\n",
              "  </thead>\n",
              "  <tbody>\n",
              "    <tr>\n",
              "      <th>0</th>\n",
              "      <td>6317637</td>\n",
              "      <td>Le Petit Souffle</td>\n",
              "      <td>162</td>\n",
              "      <td>Makati City</td>\n",
              "      <td>Third Floor, Century City Mall, Kalayaan Avenu...</td>\n",
              "      <td>Century City Mall, Poblacion, Makati City</td>\n",
              "      <td>Century City Mall, Poblacion, Makati City, Mak...</td>\n",
              "      <td>121.027535</td>\n",
              "      <td>14.565443</td>\n",
              "      <td>French, Japanese, Desserts</td>\n",
              "      <td>...</td>\n",
              "      <td>Botswana Pula(P)</td>\n",
              "      <td>Yes</td>\n",
              "      <td>No</td>\n",
              "      <td>No</td>\n",
              "      <td>No</td>\n",
              "      <td>3</td>\n",
              "      <td>4.8</td>\n",
              "      <td>Dark Green</td>\n",
              "      <td>Excellent</td>\n",
              "      <td>314</td>\n",
              "    </tr>\n",
              "    <tr>\n",
              "      <th>1</th>\n",
              "      <td>6304287</td>\n",
              "      <td>Izakaya Kikufuji</td>\n",
              "      <td>162</td>\n",
              "      <td>Makati City</td>\n",
              "      <td>Little Tokyo, 2277 Chino Roces Avenue, Legaspi...</td>\n",
              "      <td>Little Tokyo, Legaspi Village, Makati City</td>\n",
              "      <td>Little Tokyo, Legaspi Village, Makati City, Ma...</td>\n",
              "      <td>121.014101</td>\n",
              "      <td>14.553708</td>\n",
              "      <td>Japanese</td>\n",
              "      <td>...</td>\n",
              "      <td>Botswana Pula(P)</td>\n",
              "      <td>Yes</td>\n",
              "      <td>No</td>\n",
              "      <td>No</td>\n",
              "      <td>No</td>\n",
              "      <td>3</td>\n",
              "      <td>4.5</td>\n",
              "      <td>Dark Green</td>\n",
              "      <td>Excellent</td>\n",
              "      <td>591</td>\n",
              "    </tr>\n",
              "    <tr>\n",
              "      <th>2</th>\n",
              "      <td>6300002</td>\n",
              "      <td>Heat - Edsa Shangri-La</td>\n",
              "      <td>162</td>\n",
              "      <td>Mandaluyong City</td>\n",
              "      <td>Edsa Shangri-La, 1 Garden Way, Ortigas, Mandal...</td>\n",
              "      <td>Edsa Shangri-La, Ortigas, Mandaluyong City</td>\n",
              "      <td>Edsa Shangri-La, Ortigas, Mandaluyong City, Ma...</td>\n",
              "      <td>121.056831</td>\n",
              "      <td>14.581404</td>\n",
              "      <td>Seafood, Asian, Filipino, Indian</td>\n",
              "      <td>...</td>\n",
              "      <td>Botswana Pula(P)</td>\n",
              "      <td>Yes</td>\n",
              "      <td>No</td>\n",
              "      <td>No</td>\n",
              "      <td>No</td>\n",
              "      <td>4</td>\n",
              "      <td>4.4</td>\n",
              "      <td>Green</td>\n",
              "      <td>Very Good</td>\n",
              "      <td>270</td>\n",
              "    </tr>\n",
              "    <tr>\n",
              "      <th>3</th>\n",
              "      <td>6318506</td>\n",
              "      <td>Ooma</td>\n",
              "      <td>162</td>\n",
              "      <td>Mandaluyong City</td>\n",
              "      <td>Third Floor, Mega Fashion Hall, SM Megamall, O...</td>\n",
              "      <td>SM Megamall, Ortigas, Mandaluyong City</td>\n",
              "      <td>SM Megamall, Ortigas, Mandaluyong City, Mandal...</td>\n",
              "      <td>121.056475</td>\n",
              "      <td>14.585318</td>\n",
              "      <td>Japanese, Sushi</td>\n",
              "      <td>...</td>\n",
              "      <td>Botswana Pula(P)</td>\n",
              "      <td>No</td>\n",
              "      <td>No</td>\n",
              "      <td>No</td>\n",
              "      <td>No</td>\n",
              "      <td>4</td>\n",
              "      <td>4.9</td>\n",
              "      <td>Dark Green</td>\n",
              "      <td>Excellent</td>\n",
              "      <td>365</td>\n",
              "    </tr>\n",
              "    <tr>\n",
              "      <th>4</th>\n",
              "      <td>6314302</td>\n",
              "      <td>Sambo Kojin</td>\n",
              "      <td>162</td>\n",
              "      <td>Mandaluyong City</td>\n",
              "      <td>Third Floor, Mega Atrium, SM Megamall, Ortigas...</td>\n",
              "      <td>SM Megamall, Ortigas, Mandaluyong City</td>\n",
              "      <td>SM Megamall, Ortigas, Mandaluyong City, Mandal...</td>\n",
              "      <td>121.057508</td>\n",
              "      <td>14.584450</td>\n",
              "      <td>Japanese, Korean</td>\n",
              "      <td>...</td>\n",
              "      <td>Botswana Pula(P)</td>\n",
              "      <td>Yes</td>\n",
              "      <td>No</td>\n",
              "      <td>No</td>\n",
              "      <td>No</td>\n",
              "      <td>4</td>\n",
              "      <td>4.8</td>\n",
              "      <td>Dark Green</td>\n",
              "      <td>Excellent</td>\n",
              "      <td>229</td>\n",
              "    </tr>\n",
              "  </tbody>\n",
              "</table>\n",
              "<p>5 rows × 21 columns</p>\n",
              "</div>\n",
              "    <div class=\"colab-df-buttons\">\n",
              "\n",
              "  <div class=\"colab-df-container\">\n",
              "    <button class=\"colab-df-convert\" onclick=\"convertToInteractive('df-2a435d4e-9ef6-4869-91c0-a3a43962d040')\"\n",
              "            title=\"Convert this dataframe to an interactive table.\"\n",
              "            style=\"display:none;\">\n",
              "\n",
              "  <svg xmlns=\"http://www.w3.org/2000/svg\" height=\"24px\" viewBox=\"0 -960 960 960\">\n",
              "    <path d=\"M120-120v-720h720v720H120Zm60-500h600v-160H180v160Zm220 220h160v-160H400v160Zm0 220h160v-160H400v160ZM180-400h160v-160H180v160Zm440 0h160v-160H620v160ZM180-180h160v-160H180v160Zm440 0h160v-160H620v160Z\"/>\n",
              "  </svg>\n",
              "    </button>\n",
              "\n",
              "  <style>\n",
              "    .colab-df-container {\n",
              "      display:flex;\n",
              "      gap: 12px;\n",
              "    }\n",
              "\n",
              "    .colab-df-convert {\n",
              "      background-color: #E8F0FE;\n",
              "      border: none;\n",
              "      border-radius: 50%;\n",
              "      cursor: pointer;\n",
              "      display: none;\n",
              "      fill: #1967D2;\n",
              "      height: 32px;\n",
              "      padding: 0 0 0 0;\n",
              "      width: 32px;\n",
              "    }\n",
              "\n",
              "    .colab-df-convert:hover {\n",
              "      background-color: #E2EBFA;\n",
              "      box-shadow: 0px 1px 2px rgba(60, 64, 67, 0.3), 0px 1px 3px 1px rgba(60, 64, 67, 0.15);\n",
              "      fill: #174EA6;\n",
              "    }\n",
              "\n",
              "    .colab-df-buttons div {\n",
              "      margin-bottom: 4px;\n",
              "    }\n",
              "\n",
              "    [theme=dark] .colab-df-convert {\n",
              "      background-color: #3B4455;\n",
              "      fill: #D2E3FC;\n",
              "    }\n",
              "\n",
              "    [theme=dark] .colab-df-convert:hover {\n",
              "      background-color: #434B5C;\n",
              "      box-shadow: 0px 1px 3px 1px rgba(0, 0, 0, 0.15);\n",
              "      filter: drop-shadow(0px 1px 2px rgba(0, 0, 0, 0.3));\n",
              "      fill: #FFFFFF;\n",
              "    }\n",
              "  </style>\n",
              "\n",
              "    <script>\n",
              "      const buttonEl =\n",
              "        document.querySelector('#df-2a435d4e-9ef6-4869-91c0-a3a43962d040 button.colab-df-convert');\n",
              "      buttonEl.style.display =\n",
              "        google.colab.kernel.accessAllowed ? 'block' : 'none';\n",
              "\n",
              "      async function convertToInteractive(key) {\n",
              "        const element = document.querySelector('#df-2a435d4e-9ef6-4869-91c0-a3a43962d040');\n",
              "        const dataTable =\n",
              "          await google.colab.kernel.invokeFunction('convertToInteractive',\n",
              "                                                    [key], {});\n",
              "        if (!dataTable) return;\n",
              "\n",
              "        const docLinkHtml = 'Like what you see? Visit the ' +\n",
              "          '<a target=\"_blank\" href=https://colab.research.google.com/notebooks/data_table.ipynb>data table notebook</a>'\n",
              "          + ' to learn more about interactive tables.';\n",
              "        element.innerHTML = '';\n",
              "        dataTable['output_type'] = 'display_data';\n",
              "        await google.colab.output.renderOutput(dataTable, element);\n",
              "        const docLink = document.createElement('div');\n",
              "        docLink.innerHTML = docLinkHtml;\n",
              "        element.appendChild(docLink);\n",
              "      }\n",
              "    </script>\n",
              "  </div>\n",
              "\n",
              "\n",
              "<div id=\"df-71d0e11f-e23d-46c1-aeb0-d40bc831ab1b\">\n",
              "  <button class=\"colab-df-quickchart\" onclick=\"quickchart('df-71d0e11f-e23d-46c1-aeb0-d40bc831ab1b')\"\n",
              "            title=\"Suggest charts\"\n",
              "            style=\"display:none;\">\n",
              "\n",
              "<svg xmlns=\"http://www.w3.org/2000/svg\" height=\"24px\"viewBox=\"0 0 24 24\"\n",
              "     width=\"24px\">\n",
              "    <g>\n",
              "        <path d=\"M19 3H5c-1.1 0-2 .9-2 2v14c0 1.1.9 2 2 2h14c1.1 0 2-.9 2-2V5c0-1.1-.9-2-2-2zM9 17H7v-7h2v7zm4 0h-2V7h2v10zm4 0h-2v-4h2v4z\"/>\n",
              "    </g>\n",
              "</svg>\n",
              "  </button>\n",
              "\n",
              "<style>\n",
              "  .colab-df-quickchart {\n",
              "      --bg-color: #E8F0FE;\n",
              "      --fill-color: #1967D2;\n",
              "      --hover-bg-color: #E2EBFA;\n",
              "      --hover-fill-color: #174EA6;\n",
              "      --disabled-fill-color: #AAA;\n",
              "      --disabled-bg-color: #DDD;\n",
              "  }\n",
              "\n",
              "  [theme=dark] .colab-df-quickchart {\n",
              "      --bg-color: #3B4455;\n",
              "      --fill-color: #D2E3FC;\n",
              "      --hover-bg-color: #434B5C;\n",
              "      --hover-fill-color: #FFFFFF;\n",
              "      --disabled-bg-color: #3B4455;\n",
              "      --disabled-fill-color: #666;\n",
              "  }\n",
              "\n",
              "  .colab-df-quickchart {\n",
              "    background-color: var(--bg-color);\n",
              "    border: none;\n",
              "    border-radius: 50%;\n",
              "    cursor: pointer;\n",
              "    display: none;\n",
              "    fill: var(--fill-color);\n",
              "    height: 32px;\n",
              "    padding: 0;\n",
              "    width: 32px;\n",
              "  }\n",
              "\n",
              "  .colab-df-quickchart:hover {\n",
              "    background-color: var(--hover-bg-color);\n",
              "    box-shadow: 0 1px 2px rgba(60, 64, 67, 0.3), 0 1px 3px 1px rgba(60, 64, 67, 0.15);\n",
              "    fill: var(--button-hover-fill-color);\n",
              "  }\n",
              "\n",
              "  .colab-df-quickchart-complete:disabled,\n",
              "  .colab-df-quickchart-complete:disabled:hover {\n",
              "    background-color: var(--disabled-bg-color);\n",
              "    fill: var(--disabled-fill-color);\n",
              "    box-shadow: none;\n",
              "  }\n",
              "\n",
              "  .colab-df-spinner {\n",
              "    border: 2px solid var(--fill-color);\n",
              "    border-color: transparent;\n",
              "    border-bottom-color: var(--fill-color);\n",
              "    animation:\n",
              "      spin 1s steps(1) infinite;\n",
              "  }\n",
              "\n",
              "  @keyframes spin {\n",
              "    0% {\n",
              "      border-color: transparent;\n",
              "      border-bottom-color: var(--fill-color);\n",
              "      border-left-color: var(--fill-color);\n",
              "    }\n",
              "    20% {\n",
              "      border-color: transparent;\n",
              "      border-left-color: var(--fill-color);\n",
              "      border-top-color: var(--fill-color);\n",
              "    }\n",
              "    30% {\n",
              "      border-color: transparent;\n",
              "      border-left-color: var(--fill-color);\n",
              "      border-top-color: var(--fill-color);\n",
              "      border-right-color: var(--fill-color);\n",
              "    }\n",
              "    40% {\n",
              "      border-color: transparent;\n",
              "      border-right-color: var(--fill-color);\n",
              "      border-top-color: var(--fill-color);\n",
              "    }\n",
              "    60% {\n",
              "      border-color: transparent;\n",
              "      border-right-color: var(--fill-color);\n",
              "    }\n",
              "    80% {\n",
              "      border-color: transparent;\n",
              "      border-right-color: var(--fill-color);\n",
              "      border-bottom-color: var(--fill-color);\n",
              "    }\n",
              "    90% {\n",
              "      border-color: transparent;\n",
              "      border-bottom-color: var(--fill-color);\n",
              "    }\n",
              "  }\n",
              "</style>\n",
              "\n",
              "  <script>\n",
              "    async function quickchart(key) {\n",
              "      const quickchartButtonEl =\n",
              "        document.querySelector('#' + key + ' button');\n",
              "      quickchartButtonEl.disabled = true;  // To prevent multiple clicks.\n",
              "      quickchartButtonEl.classList.add('colab-df-spinner');\n",
              "      try {\n",
              "        const charts = await google.colab.kernel.invokeFunction(\n",
              "            'suggestCharts', [key], {});\n",
              "      } catch (error) {\n",
              "        console.error('Error during call to suggestCharts:', error);\n",
              "      }\n",
              "      quickchartButtonEl.classList.remove('colab-df-spinner');\n",
              "      quickchartButtonEl.classList.add('colab-df-quickchart-complete');\n",
              "    }\n",
              "    (() => {\n",
              "      let quickchartButtonEl =\n",
              "        document.querySelector('#df-71d0e11f-e23d-46c1-aeb0-d40bc831ab1b button');\n",
              "      quickchartButtonEl.style.display =\n",
              "        google.colab.kernel.accessAllowed ? 'block' : 'none';\n",
              "    })();\n",
              "  </script>\n",
              "</div>\n",
              "\n",
              "    </div>\n",
              "  </div>\n"
            ],
            "application/vnd.google.colaboratory.intrinsic+json": {
              "type": "dataframe"
            }
          },
          "metadata": {}
        }
      ]
    },
    {
      "cell_type": "code",
      "source": [
        "df['Cuisines'].unique()"
      ],
      "metadata": {
        "colab": {
          "base_uri": "https://localhost:8080/"
        },
        "id": "pJbmWegPE0Lv",
        "outputId": "1a984df1-7f55-4a44-a06c-b578d96a8edc"
      },
      "execution_count": null,
      "outputs": [
        {
          "output_type": "execute_result",
          "data": {
            "text/plain": [
              "array(['French, Japanese, Desserts', 'Japanese',\n",
              "       'Seafood, Asian, Filipino, Indian', ..., 'Burger, Izgara',\n",
              "       'World Cuisine, Patisserie, Cafe', 'Italian, World Cuisine'],\n",
              "      dtype=object)"
            ]
          },
          "metadata": {},
          "execution_count": 2
        }
      ]
    },
    {
      "cell_type": "code",
      "source": [
        "sum(df[\"Cuisines\"].isna())"
      ],
      "metadata": {
        "colab": {
          "base_uri": "https://localhost:8080/"
        },
        "id": "jwt_zAr6GIoV",
        "outputId": "acf99ca3-c097-444a-bde7-dfba34993288"
      },
      "execution_count": null,
      "outputs": [
        {
          "output_type": "execute_result",
          "data": {
            "text/plain": [
              "9"
            ]
          },
          "metadata": {},
          "execution_count": 3
        }
      ]
    },
    {
      "cell_type": "code",
      "source": [
        "cuisine_counts=df[\"Cuisines\"].str.split(', ').explode().value_counts()\n",
        "top_three_cusines=cuisine_counts.head(3)\n",
        "print(top_three_cusines)"
      ],
      "metadata": {
        "colab": {
          "base_uri": "https://localhost:8080/"
        },
        "id": "uYoEl3Fj9oZI",
        "outputId": "4bd7fe44-ff96-42c3-c23f-8bb071f9ef1c"
      },
      "execution_count": null,
      "outputs": [
        {
          "output_type": "stream",
          "name": "stdout",
          "text": [
            "Cuisines\n",
            "North Indian    3960\n",
            "Chinese         2735\n",
            "Fast Food       1986\n",
            "Name: count, dtype: int64\n"
          ]
        }
      ]
    },
    {
      "cell_type": "markdown",
      "source": [
        "# **Calculate the percentages of restaurants that serve each of the top cuisines.**\n"
      ],
      "metadata": {
        "id": "dMes36MAUZH6"
      }
    },
    {
      "cell_type": "code",
      "source": [
        "total_restaurants = len(df[\"Restaurant Name\"])\n",
        "print(total_restaurants)"
      ],
      "metadata": {
        "colab": {
          "base_uri": "https://localhost:8080/"
        },
        "id": "mry1FV9cMy7x",
        "outputId": "cdc4b1a9-d2d0-4ca4-d29a-5164e427ba77"
      },
      "execution_count": null,
      "outputs": [
        {
          "output_type": "stream",
          "name": "stdout",
          "text": [
            "9551\n"
          ]
        }
      ]
    },
    {
      "cell_type": "code",
      "source": [
        "percentages = (top_three_cusines / total_restaurants)*100\n",
        "print(percentages)"
      ],
      "metadata": {
        "colab": {
          "base_uri": "https://localhost:8080/"
        },
        "id": "GBnmsvDgNOok",
        "outputId": "65837410-745c-47b0-e884-6ec3f2454d5b"
      },
      "execution_count": null,
      "outputs": [
        {
          "output_type": "stream",
          "name": "stdout",
          "text": [
            "Cuisines\n",
            "North Indian    41.461627\n",
            "Chinese         28.635745\n",
            "Fast Food       20.793634\n",
            "Name: count, dtype: float64\n"
          ]
        }
      ]
    },
    {
      "cell_type": "markdown",
      "source": [
        "# **Task2: city analysis**"
      ],
      "metadata": {
        "id": "Wb97Q3WSPIYh"
      }
    },
    {
      "cell_type": "markdown",
      "source": [
        "# **Identify the city with the highest number of restaurants in the dataset.**"
      ],
      "metadata": {
        "id": "nMg9nsXc_PVa"
      }
    },
    {
      "cell_type": "code",
      "source": [
        "city_counts = df.groupby('City').size()\n",
        "max_city=city_counts.idxmax()\n",
        "max_count=city_counts.max()\n",
        "print(f\"the city with highest number of restaurants is {max_city} with {max_count}.\")"
      ],
      "metadata": {
        "colab": {
          "base_uri": "https://localhost:8080/"
        },
        "id": "ylZaQ9dKPd5L",
        "outputId": "6a8e6243-7b9e-44e8-b8a6-9295f0920f34"
      },
      "execution_count": null,
      "outputs": [
        {
          "output_type": "stream",
          "name": "stdout",
          "text": [
            "the city with highest number of restaurants is New Delhi with 5473.\n"
          ]
        }
      ]
    },
    {
      "cell_type": "markdown",
      "source": [
        "# **Calculate the average rating for restaurants in each city.**"
      ],
      "metadata": {
        "id": "0IiywLr-BNAE"
      }
    },
    {
      "cell_type": "code",
      "source": [
        "average_ratings = df.groupby('City')['Aggregate rating'].mean()\n",
        "print(average_ratings)"
      ],
      "metadata": {
        "colab": {
          "base_uri": "https://localhost:8080/"
        },
        "id": "mRvsAWecQEeI",
        "outputId": "25926807-24ad-4db3-91f8-f57088696b20"
      },
      "execution_count": null,
      "outputs": [
        {
          "output_type": "stream",
          "name": "stdout",
          "text": [
            "City\n",
            "Abu Dhabi          4.300000\n",
            "Agra               3.965000\n",
            "Ahmedabad          4.161905\n",
            "Albany             3.555000\n",
            "Allahabad          3.395000\n",
            "                     ...   \n",
            "Weirton            3.900000\n",
            "Wellington City    4.250000\n",
            "Winchester Bay     3.200000\n",
            "Yorkton            3.300000\n",
            "��stanbul          4.292857\n",
            "Name: Aggregate rating, Length: 141, dtype: float64\n"
          ]
        }
      ]
    },
    {
      "cell_type": "markdown",
      "source": [
        "# **Determine the city with the highest average rating.**"
      ],
      "metadata": {
        "id": "r_sdFt7CBYBD"
      }
    },
    {
      "cell_type": "code",
      "source": [
        "city_highest_rating = average_ratings.idxmax()\n",
        "highest_rating=average_ratings.max()\n",
        "print(f\"the city with the highest average rating is {city_highest_rating} with an average rating of {highest_rating: .2f}\")"
      ],
      "metadata": {
        "colab": {
          "base_uri": "https://localhost:8080/"
        },
        "id": "LRFonQ-ZRzzS",
        "outputId": "2a48b16d-d7b2-4e58-9c8a-01bd923c40d5"
      },
      "execution_count": null,
      "outputs": [
        {
          "output_type": "stream",
          "name": "stdout",
          "text": [
            "the city with the highest average rating is Inner City with an average rating of  4.90\n"
          ]
        }
      ]
    },
    {
      "cell_type": "markdown",
      "source": [
        "# **Task3: Price Range Distribution**"
      ],
      "metadata": {
        "id": "NTht8vpAThOR"
      }
    },
    {
      "cell_type": "markdown",
      "source": [
        "# **Create a histogram or bar chart to visualize the distribution of price ranges among the restaurants.**"
      ],
      "metadata": {
        "id": "0zxYaMKIBqkW"
      }
    },
    {
      "cell_type": "code",
      "source": [
        "import matplotlib.pyplot as plt\n",
        "plt.figure(figsize=(8, 6))\n",
        "plt.xlabel('Price Range')\n",
        "plt.hist(df['Price range'], color='lightgreen', edgecolor='black')\n",
        "plt.show()"
      ],
      "metadata": {
        "id": "PXYBs7c9B_cq",
        "colab": {
          "base_uri": "https://localhost:8080/",
          "height": 542
        },
        "outputId": "fca35b96-8188-4407-8db8-ed5df8a25b1e"
      },
      "execution_count": null,
      "outputs": [
        {
          "output_type": "display_data",
          "data": {
            "text/plain": [
              "<Figure size 800x600 with 1 Axes>"
            ],
            "image/png": "[encoded data removed]"
          },
          "metadata": {}
        }
      ]
    },
    {
      "cell_type": "markdown",
      "source": [
        "# **Calculate the percentage of restaurants in each price range category.**"
      ],
      "metadata": {
        "id": "mgMcuo8BB38l"
      }
    },
    {
      "cell_type": "code",
      "source": [
        "r=len(df[\"Restaurant Name\"])\n",
        "p=df[\"Price range\"].value_counts()\n",
        "percentage=(p/r)*100\n",
        "print(\"percentage of restaurants in each price range:\\n\", percentage)"
      ],
      "metadata": {
        "id": "AhRVlEwGBz7y",
        "colab": {
          "base_uri": "https://localhost:8080/"
        },
        "outputId": "50905746-7751-41d1-d5af-941098045d6e"
      },
      "execution_count": null,
      "outputs": [
        {
          "output_type": "stream",
          "name": "stdout",
          "text": [
            "percentage of restaurants in each price range:\n",
            " Price range\n",
            "1    46.529159\n",
            "2    32.593446\n",
            "3    14.741912\n",
            "4     6.135483\n",
            "Name: count, dtype: float64\n"
          ]
        }
      ]
    },
    {
      "cell_type": "markdown",
      "source": [
        "## **Task4: Online Delivery**"
      ],
      "metadata": {
        "id": "uY9rVVbaI2Zq"
      }
    },
    {
      "cell_type": "markdown",
      "source": [
        "# **Determine the percentage of restaurants that offer online delivery.**"
      ],
      "metadata": {
        "id": "JG3O80vWJCYr"
      }
    },
    {
      "cell_type": "code",
      "source": [
        "r=len(df[\"Restaurant Name\"])\n",
        "d=df[\"Has Online delivery\"].value_counts()\n",
        "percentage=(d/r)*100\n",
        "print(f\"percentage of restaurants that offer online delivery:\\n\", percentage)"
      ],
      "metadata": {
        "id": "2r586xI9JcGJ",
        "colab": {
          "base_uri": "https://localhost:8080/"
        },
        "outputId": "5dc18902-534e-46bf-f0c4-a1a1015f6fb4"
      },
      "execution_count": null,
      "outputs": [
        {
          "output_type": "stream",
          "name": "stdout",
          "text": [
            "percentage of restaurants that offer online delivery:\n",
            " Has Online delivery\n",
            "No     74.337766\n",
            "Yes    25.662234\n",
            "Name: count, dtype: float64\n"
          ]
        }
      ]
    },
    {
      "cell_type": "markdown",
      "source": [
        "# **Compare the average ratings of restaurants with and without online delivery.**"
      ],
      "metadata": {
        "id": "-IVxtRW1JMrb"
      }
    },
    {
      "cell_type": "code",
      "source": [
        "online_delivery = df[df[\"Has Online delivery\"] == 'Yes']\n",
        "no_online_delivery = df[df[\"Has Online delivery\"] == 'No']\n",
        "avg_rating_online = online_delivery[\"Aggregate rating\"].mean()\n",
        "avg_rating_no_online = no_online_delivery[\"Aggregate rating\"].mean()\n",
        "print(f\"Average rating for restaurants with online delivery: {avg_rating_online:.2f}\")\n",
        "print(f\"Average rating for restaurants without online delivery: {avg_rating_no_online:.2f}\")"
      ],
      "metadata": {
        "id": "esR8rWwiJcmv",
        "colab": {
          "base_uri": "https://localhost:8080/"
        },
        "outputId": "567e68c9-eda9-4d89-8669-41322fb74f83"
      },
      "execution_count": null,
      "outputs": [
        {
          "output_type": "stream",
          "name": "stdout",
          "text": [
            "Average rating for restaurants with online delivery: 3.25\n",
            "Average rating for restaurants without online delivery: 2.47\n"
          ]
        }
      ]
    },
    {
      "cell_type": "markdown",
      "source": [
        "## **level 2**"
      ],
      "metadata": {
        "id": "48DMQK_-Jsbb"
      }
    },
    {
      "cell_type": "markdown",
      "source": [
        "# **Task 1: Restaurant Ratings**"
      ],
      "metadata": {
        "id": "zvLxKJXpJ1MF"
      }
    },
    {
      "cell_type": "markdown",
      "source": [
        "# **Analyze the distribution of aggregate ratings and determine the most common rating range.**"
      ],
      "metadata": {
        "id": "sASqK0PGKJkN"
      }
    },
    {
      "cell_type": "code",
      "source": [
        "p=df[\"Aggregate rating\"].value_counts().sort_index()\n",
        "plt.hist(df['Aggregate rating'], color='skyblue')\n",
        "plt.xlabel('Rating')\n",
        "plt.ylabel('Restaurants')\n",
        "plt.show()\n",
        "most_common_range = p.idxmax()\n",
        "most_common_count = p.max()\n",
        "print(f\"The most common rating range is: {most_common_range} with {most_common_count} Restaurant.\")"
      ],
      "metadata": {
        "id": "OS0i0EjwNNwP",
        "colab": {
          "base_uri": "https://localhost:8080/",
          "height": 466
        },
        "outputId": "e524eae5-0676-4c21-f8ba-acfc3079565b"
      },
      "execution_count": null,
      "outputs": [
        {
          "output_type": "display_data",
          "data": {
            "text/plain": [
              "<Figure size 640x480 with 1 Axes>"
            ],
            "image/png": "[encoded data removed]"
          },
          "metadata": {}
        },
        {
          "output_type": "stream",
          "name": "stdout",
          "text": [
            "The most common rating range is: 0.0 with 2148 Restaurant.\n"
          ]
        }
      ]
    },
    {
      "cell_type": "markdown",
      "source": [
        "# **Calculate the average number of votes received by restaurants.**"
      ],
      "metadata": {
        "id": "eDWRV4kfKWEw"
      }
    },
    {
      "cell_type": "code",
      "source": [
        "average_votes=df[\"Votes\"].mean()\n",
        "print(f\"the average number of votes received by restaurants: {average_votes:.2f}\")"
      ],
      "metadata": {
        "id": "z0rJ6IosXpxt",
        "colab": {
          "base_uri": "https://localhost:8080/"
        },
        "outputId": "e508b677-1e21-496e-a248-57095f8dd923"
      },
      "execution_count": null,
      "outputs": [
        {
          "output_type": "stream",
          "name": "stdout",
          "text": [
            "the average number of votes received by restaurants: 156.91\n"
          ]
        }
      ]
    },
    {
      "cell_type": "markdown",
      "source": [
        "# **Task2: Cuisine Combination**"
      ],
      "metadata": {
        "id": "16heFkDoKnz_"
      }
    },
    {
      "cell_type": "markdown",
      "source": [
        "# **Identify the most common combinations of cuisines in the dataset.**"
      ],
      "metadata": {
        "id": "EZZs-pEIK17X"
      }
    },
    {
      "cell_type": "code",
      "source": [
        "c=df[\"Cuisines\"].value_counts()\n",
        "print(\"the most common combinations of cuisines are:\", c.head(5))"
      ],
      "metadata": {
        "id": "aoq1F7ISXqqM",
        "colab": {
          "base_uri": "https://localhost:8080/"
        },
        "outputId": "1ed193c9-fa07-4fc1-cb2f-9413f06e86b5"
      },
      "execution_count": null,
      "outputs": [
        {
          "output_type": "stream",
          "name": "stdout",
          "text": [
            "the most common combinations of cuisines are: Cuisines\n",
            "North Indian             936\n",
            "North Indian, Chinese    511\n",
            "Chinese                  354\n",
            "Fast Food                354\n",
            "North Indian, Mughlai    334\n",
            "Name: count, dtype: int64\n"
          ]
        }
      ]
    },
    {
      "cell_type": "markdown",
      "source": [
        "# **Determine if certain cuisine combinations tend to have higher ratings.**"
      ],
      "metadata": {
        "id": "Pe-wxqd1LDS4"
      }
    },
    {
      "cell_type": "code",
      "source": [
        "average_ratings = df.groupby(\"Cuisines\")[\"Aggregate rating\"].mean()\n",
        "print(f\"cuisine combination {average_ratings.idxmax()} has the highest rating is {average_ratings.max()}\" )"
      ],
      "metadata": {
        "id": "u_0rEhiWXs3p",
        "colab": {
          "base_uri": "https://localhost:8080/"
        },
        "outputId": "e863b833-d559-4017-d9ff-827737aeab77"
      },
      "execution_count": null,
      "outputs": [
        {
          "output_type": "stream",
          "name": "stdout",
          "text": [
            "cuisine combination American, BBQ, Sandwich has the highest rating is 4.9\n"
          ]
        }
      ]
    },
    {
      "cell_type": "markdown",
      "source": [
        "# **Task3: Geographic Analysis**"
      ],
      "metadata": {
        "id": "r0_zIpWqLTaY"
      }
    },
    {
      "cell_type": "markdown",
      "source": [
        "# **Plot the locations of restaurants on a map using longitude and latitude coordinates.**"
      ],
      "metadata": {
        "id": "MTBr6OAfLZ_p"
      }
    },
    {
      "cell_type": "code",
      "source": [
        "plt.scatter(df[\"Longitude\"], df[\"Latitude\"], c=\"green\")\n",
        "plt.title(\"locations of restaurants\")\n",
        "plt.xlabel(\"Longitude\")\n",
        "plt.ylabel(\"Latitude\")\n",
        "plt.grid(True)\n",
        "plt.show()"
      ],
      "metadata": {
        "id": "DnR1jWjGXvH0",
        "colab": {
          "base_uri": "https://localhost:8080/",
          "height": 472
        },
        "outputId": "6b9ce6e9-30c5-417d-968a-e14ecf018181"
      },
      "execution_count": null,
      "outputs": [
        {
          "output_type": "display_data",
          "data": {
            "text/plain": [
              "<Figure size 640x480 with 1 Axes>"
            ],
            "image/png": "[encoded data removed]"
          },
          "metadata": {}
        }
      ]
    },
    {
      "cell_type": "markdown",
      "source": [
        "# **Identify any patterns or clusters of restaurants in specific areas.**"
      ],
      "metadata": {
        "id": "D2t1WDYfLiiu"
      }
    },
    {
      "cell_type": "code",
      "source": [
        "from sklearn.cluster import KMeans\n",
        "X = df[[\"Longitude\", \"Latitude\"]]\n",
        "kmeans = KMeans(n_clusters=2, random_state=0).fit(X)\n",
        "df['cluster'] = kmeans.labels_\n",
        "plt.scatter(df[\"Longitude\"], df[\"Latitude\"], c=df[\"cluster\"])\n",
        "plt.title(\"Restaurant Locations\")\n",
        "plt.xlabel(\"Longitude\")\n",
        "plt.ylabel(\"Latitude\")\n",
        "plt.grid(True)\n",
        "plt.show()"
      ],
      "metadata": {
        "id": "aoOz3C3HXvsy",
        "colab": {
          "base_uri": "https://localhost:8080/",
          "height": 527
        },
        "outputId": "8642fa86-dfc1-4264-8ecf-eafd6625a61d"
      },
      "execution_count": null,
      "outputs": [
        {
          "output_type": "stream",
          "name": "stderr",
          "text": [
            "/usr/local/lib/python3.10/dist-packages/sklearn/cluster/_kmeans.py:870: FutureWarning: The default value of `n_init` will change from 10 to 'auto' in 1.4. Set the value of `n_init` explicitly to suppress the warning\n",
            "  warnings.warn(\n"
          ]
        },
        {
          "output_type": "display_data",
          "data": {
            "text/plain": [
              "<Figure size 640x480 with 1 Axes>"
            ],
            "image/png": "[encoded data removed]"
          },
          "metadata": {}
        }
      ]
    },
    {
      "cell_type": "markdown",
      "source": [
        "# **Task4: Restaurant Chains**"
      ],
      "metadata": {
        "id": "z6nxCtMqLw6L"
      }
    },
    {
      "cell_type": "markdown",
      "source": [
        "# **Identify if there are any restaurant chains present in the dataset.**"
      ],
      "metadata": {
        "id": "SM-d_uEcL6qJ"
      }
    },
    {
      "cell_type": "code",
      "source": [
        "counts = df[\"Restaurant Name\"].value_counts()\n",
        "chains = counts[counts > 1]\n",
        "print(\"restaurant chains:\",chains)"
      ],
      "metadata": {
        "id": "S_ldNWKSXw_1",
        "colab": {
          "base_uri": "https://localhost:8080/"
        },
        "outputId": "f354298e-3d01-4b51-f114-f8109ec0d1ec"
      },
      "execution_count": null,
      "outputs": [
        {
          "output_type": "stream",
          "name": "stdout",
          "text": [
            "restaurant chains: Restaurant Name\n",
            "Cafe Coffee Day       83\n",
            "Domino's Pizza        79\n",
            "Subway                63\n",
            "Green Chick Chop      51\n",
            "McDonald's            48\n",
            "                      ..\n",
            "Town Hall              2\n",
            "Halki Aanch            2\n",
            "Snack Junction         2\n",
            "Delhi Biryani Hut      2\n",
            "Beliram Degchiwala     2\n",
            "Name: count, Length: 734, dtype: int64\n"
          ]
        }
      ]
    },
    {
      "cell_type": "markdown",
      "source": [
        "# **Analyze the ratings and popularity of different restaurant chains.**"
      ],
      "metadata": {
        "id": "lr4qj2xzMCm8"
      }
    },
    {
      "cell_type": "code",
      "source": [
        "chain = df.groupby('Restaurant Name').agg({\n",
        "    'Aggregate rating': 'mean',\n",
        "    'Votes': 'sum'\n",
        "}).reset_index()\n",
        "sorted_restaurants = chain.sort_values(by=['Aggregate rating',\"Votes\"], ascending=[False,False])\n",
        "print(sorted_restaurants)"
      ],
      "metadata": {
        "colab": {
          "base_uri": "https://localhost:8080/"
        },
        "id": "CtxTR-IXD92z",
        "outputId": "e8b598ae-61ba-47dc-d4bf-7d2b181d7467"
      },
      "execution_count": null,
      "outputs": [
        {
          "output_type": "stream",
          "name": "stdout",
          "text": [
            "                          Restaurant Name  Aggregate rating  Votes\n",
            "6263                     Talaga Sampireun               4.9   5514\n",
            "4182                      Mirchi And Mime               4.9   3244\n",
            "4078        McGuire's Irish Pub & Brewery               4.9   2238\n",
            "3115            Indian Accent - The Manor               4.9   1934\n",
            "4995  Pom Pom's Teahouse and Sandwicheria               4.9   1457\n",
            "...                                   ...               ...    ...\n",
            "7391                     Zaika Muradabadi               0.0      0\n",
            "7392                     Zaika Restaurant               0.0      0\n",
            "7395                Zaika-E-Chaap Express               0.0      0\n",
            "7407             Zayka chicken restaurant               0.0      0\n",
            "7423                              Zombiez               0.0      0\n",
            "\n",
            "[7446 rows x 3 columns]\n"
          ]
        }
      ]
    }
  ]
}